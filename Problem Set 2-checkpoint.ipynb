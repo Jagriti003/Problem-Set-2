{
 "cells": [
  {
   "cell_type": "markdown",
   "id": "451617e1",
   "metadata": {},
   "source": [
    "## PROBLEM SET 2"
   ]
  },
  {
   "cell_type": "code",
   "execution_count": 1,
   "id": "fafe82ec",
   "metadata": {},
   "outputs": [
    {
     "data": {
      "text/plain": [
       "6"
      ]
     },
     "execution_count": 1,
     "metadata": {},
     "output_type": "execute_result"
    }
   ],
   "source": [
    "#Question-1 \n",
    "a = 0\n",
    "def b():\n",
    "    global a\n",
    "    a = c(a)\n",
    "def c(a):\n",
    "    return a +2\n",
    "b()\n",
    "b()\n",
    "b()\n",
    "a\n"
   ]
  },
  {
   "cell_type": "markdown",
   "id": "a49da492",
   "metadata": {},
   "source": [
    "After executing the last expression the value of a is 6. The value of a = 2 when b () is executed for the first time. The second time b() is executed the value of a becomes 4. And lastly, the value of a becomes 6 when b() is executed for the third time. Since, 2 is added to its previous value."
   ]
  },
  {
   "cell_type": "code",
   "execution_count": 24,
   "id": "df0b5f15",
   "metadata": {},
   "outputs": [
    {
     "name": "stdout",
     "output_type": "stream",
     "text": [
      "The length of the given file is : 759\n",
      "file idterm.py not found.\n"
     ]
    }
   ],
   "source": [
    "#Question - 2\n",
    "def file_length(f):\n",
    "    try:\n",
    "        file = open(f, 'r')\n",
    "        contents = file.read()\n",
    "        print('The length of the given file is : '+ str(len(contents)))\n",
    "        file.close()\n",
    "    except:\n",
    "        print('file '+f+' not found.')\n",
    "file_length('midterm.ipynb')\n",
    "file_length('idterm.py')"
   ]
  },
  {
   "cell_type": "code",
   "execution_count": 6,
   "id": "a44187bf",
   "metadata": {},
   "outputs": [
    {
     "data": {
      "text/plain": [
       "['doll', 'firetruck', 'kitten']"
      ]
     },
     "execution_count": 6,
     "metadata": {},
     "output_type": "execute_result"
    }
   ],
   "source": [
    "#Question - 3 (a)\n",
    "class Marsupial:\n",
    "    def __init__(self):\n",
    "        self.mylist = []\n",
    "    def put_in_pouch(self, item):\n",
    "        self.mylist.append(item)\n",
    "    def pouch_contents(self):\n",
    "        return self.mylist\n",
    "m = Marsupial()\n",
    "m.put_in_pouch('doll')\n",
    "m.put_in_pouch('firetruck')\n",
    "m.put_in_pouch('kitten')\n",
    "m.pouch_contents()"
   ]
  },
  {
   "cell_type": "code",
   "execution_count": 7,
   "id": "b424ad78",
   "metadata": {},
   "outputs": [
    {
     "name": "stdout",
     "output_type": "stream",
     "text": [
      "I am a Kagaroo located at coordinates (0,0)\n",
      "['doll', 'firetruck', 'kitten']\n",
      "I am a Kagaroo located at coordinates (3,0)\n"
     ]
    }
   ],
   "source": [
    "#Question - 3\n",
    "\n",
    "class Marsupial:\n",
    "    def __init__(self):\n",
    "        self.mylist = []\n",
    "    def put_in_pouch(self, item):\n",
    "        self.mylist.append(item)\n",
    "    def pouch_contents(self):\n",
    "        return self.mylist\n",
    "m = Marsupial()\n",
    "m.put_in_pouch('doll')\n",
    "m.put_in_pouch('firetruck')\n",
    "m.put_in_pouch('kitten')\n",
    "m.pouch_contents()\n",
    "\n",
    "class Kangaroo(Marsupial):\n",
    "    def __init__(self,x,y):\n",
    "        Marsupial.__init__(self)\n",
    "        self.x = x\n",
    "        self.y = y\n",
    "    def jump(self,dx,dy):\n",
    "        self.x = self.x + dx\n",
    "        self.y = self.y + dy\n",
    "    def __str__(self):\n",
    "        return 'I am a Kagaroo located at coordinates ({},{})'.format(self.x,self.y)\n",
    "k = Kangaroo(0,0)\n",
    "print(k)\n",
    "k.put_in_pouch('doll')\n",
    "k.put_in_pouch('firetruck')\n",
    "k.put_in_pouch('kitten')\n",
    "print(k.pouch_contents())\n",
    "k.jump(1,0)\n",
    "k.jump(1,0)\n",
    "k.jump(1,0)\n",
    "print(k)"
   ]
  },
  {
   "cell_type": "code",
   "execution_count": 8,
   "id": "f894dd17",
   "metadata": {},
   "outputs": [
    {
     "name": "stdout",
     "output_type": "stream",
     "text": [
      "1\n",
      "10\n",
      "5\n",
      "16\n",
      "8\n",
      "4\n",
      "2\n",
      "1\n"
     ]
    }
   ],
   "source": [
    "#Question 4 \n",
    "def collatz(x):\n",
    "    if x != 1:\n",
    "        if x%2!= 0:\n",
    "            print(int(x))\n",
    "            collatz(3*x+1)\n",
    "        else:\n",
    "            print(int(x))\n",
    "            collatz(x/2)\n",
    "    else:\n",
    "        print(int(x))\n",
    "collatz(1)\n",
    "collatz(10)"
   ]
  },
  {
   "cell_type": "code",
   "execution_count": 9,
   "id": "ef8552c3",
   "metadata": {},
   "outputs": [
    {
     "data": {
      "text/plain": [
       "1001"
      ]
     },
     "execution_count": 9,
     "metadata": {},
     "output_type": "execute_result"
    }
   ],
   "source": [
    "#Question - 5\n",
    "def findBinary(decimal):\n",
    "    if decimal>0:\n",
    "        return (decimal % 2 + 10*findBinary(int(decimal //2)))\n",
    "    else:\n",
    "        return 0\n",
    "findBinary(0)\n",
    "findBinary(1)\n",
    "findBinary(3)\n",
    "findBinary(9)\n"
   ]
  },
  {
   "cell_type": "code",
   "execution_count": 10,
   "id": "3f420899",
   "metadata": {},
   "outputs": [
    {
     "name": "stdout",
     "output_type": "stream",
     "text": [
      "W3C Mission\n",
      "0Principles\n"
     ]
    }
   ],
   "source": [
    "#Question - 6\n",
    "\n",
    "from html.parser import HTMLParser\n",
    "class HeadingParser(HTMLParser):\n",
    "    def __init__(self):\n",
    "        HTMLParser.__init__(self)\n",
    "        self.intend = ''\n",
    "        self.head = 0\n",
    "        \n",
    "    def handle_starttag(self, tag, attrs):\n",
    "        if tag[:-1]=='h':\n",
    "            self.head = 'type'\n",
    "            \n",
    "    def handle_data(self, data):\n",
    "        if self.head=='type':\n",
    "            print(self.intend+ data)\n",
    "            self.intend+='0'\n",
    "            self.head = 0\n",
    "\n",
    "infile = open('w3c.html')\n",
    "content = infile.read()\n",
    "infile.close()\n",
    "hp = HeadingParser()\n",
    "hp.feed(content)"
   ]
  },
  {
   "cell_type": "code",
   "execution_count": 11,
   "id": "52350161",
   "metadata": {},
   "outputs": [
    {
     "name": "stdout",
     "output_type": "stream",
     "text": [
      " http://reed.cs.depaul.edu/lperkovic/test1.html\n",
      "     http://reed.cs.depaul.edu/lperkovic/test2.html\n",
      "         http://reed.cs.depaul.edu/lperkovic/test4.html\n",
      "     http://reed.cs.depaul.edu/lperkovic/test3.html\n",
      "         http://reed.cs.depaul.edu/lperkovic/test4.html\n"
     ]
    }
   ],
   "source": [
    "#Question 7\n",
    "\n",
    "from html.parser import HTMLParser\n",
    "from urllib.request import urlopen\n",
    "from urllib.parse import urljoin\n",
    "\n",
    "class collector(HTMLParser):\n",
    "    def __init__(self, url):\n",
    "        HTMLParser.__init__(self)\n",
    "        self.url = url\n",
    "        self.links = []\n",
    "        \n",
    "    def append(self):\n",
    "        return self.links\n",
    "    \n",
    "    def handle_starttag(self, tag, attributes):\n",
    "        for attr in attributes:\n",
    "            if attr[0] == 'href':\n",
    "                mylink = urljoin(self.url, attr[1])\n",
    "                if mylink[:4] == 'http':\n",
    "                    self.links.append(mylink)\n",
    "\n",
    "class urlcollector(collector):\n",
    "    def handle_starttag(self, tag, atributes):\n",
    "        if tag =='a':\n",
    "            for attr in attributes:\n",
    "                if attr[0] == 'href':\n",
    "                    url = url.join(self.url, attr[1])\n",
    "                    if url not in self.links:\n",
    "                        self.links.append(url)\n",
    "                        \n",
    "                        \n",
    "def webdir(url, depth, i):\n",
    "    depth = depth -1\n",
    "    print(i*' ', url)\n",
    "    \n",
    "    objective = urlopen(url).read().decode()\n",
    "    collection = collector(url)\n",
    "    collection.feed(objective)\n",
    "    urls = collection.append()\n",
    "    \n",
    "    links = urls\n",
    "    i = i+4\n",
    "    \n",
    "    for link in links:\n",
    "        if depth < 0 or i < 0:\n",
    "            return 1\n",
    "        else:\n",
    "            webdir(link, depth, i)\n",
    "webdir('http://reed.cs.depaul.edu/lperkovic/test1.html', 2, 0)\n"
   ]
  },
  {
   "cell_type": "code",
   "execution_count": 21,
   "id": "14b90af6",
   "metadata": {},
   "outputs": [
    {
     "data": {
      "text/plain": [
       "<sqlite3.Cursor at 0x22bfa298d50>"
      ]
     },
     "execution_count": 21,
     "metadata": {},
     "output_type": "execute_result"
    }
   ],
   "source": [
    "#Question 8\n",
    "\n",
    "import sqlite3\n",
    "con = sqlite3.connect('database_db')\n",
    "cur = con.cursor()\n",
    "cur.execute(\"CREATE TABLE Atmosphere (City, Country, Season, Temperature, Rainfall)\")"
   ]
  },
  {
   "cell_type": "code",
   "execution_count": 22,
   "id": "02a1ba16",
   "metadata": {},
   "outputs": [
    {
     "data": {
      "text/plain": [
       "<sqlite3.Cursor at 0x22bfa298d50>"
      ]
     },
     "execution_count": 22,
     "metadata": {},
     "output_type": "execute_result"
    }
   ],
   "source": [
    "cur.execute(\"INSERT INTO Atmosphere VALUES('Mumbai', 'India', 'Winter', 24.8, 5.9)\")\n",
    "cur.execute(\"INSERT INTO Atmosphere VALUES('Mumbai', 'India', 'Spring', 28.4, 16.2)\")\n",
    "cur.execute(\"INSERT INTO Atmosphere VALUES('Mumbai', 'India', 'Summer', 27.9, 1549.4)\")\n",
    "cur.execute(\"INSERT INTO Atmosphere VALUES('Mumbai', 'India', 'Fall', 27.6, 346.0)\")\n",
    "cur.execute(\"INSERT INTO Atmosphere VALUES('London', 'United Kingdom', 'Winter', 4.2, 207.7)\")\n",
    "cur.execute(\"INSERT INTO Atmosphere VALUES('London', 'United Kingdom', 'Spring', 8.3, 169.6)\")\n",
    "cur.execute(\"INSERT INTO Atmosphere VALUES('London', 'United Kingdom', 'Summer', 15.7, 157.0)\")\n",
    "cur.execute(\"INSERT INTO Atmosphere VALUES('London', 'United Kingdom', 'Fall', 10.4, 218.5)\")\n",
    "cur.execute(\"INSERT INTO Atmosphere VALUES('Cairo', 'Egypt', 'Winter', 13.6, 16.5)\")\n",
    "cur.execute(\"INSERT INTO Atmosphere VALUES('Cairo', 'Egypt', 'Spring', 20.7, 6.5)\")\n",
    "cur.execute(\"INSERT INTO Atmosphere VALUES('Cairo', 'Egypt', 'Summer', 27.7, 0.1)\")\n",
    "cur.execute(\"INSERT INTO Atmosphere VALUES('Cairo', 'Egypt', 'Fall', 22.2, 4.5)\")"
   ]
  },
  {
   "cell_type": "code",
   "execution_count": 23,
   "id": "a8cb56f1",
   "metadata": {},
   "outputs": [
    {
     "name": "stdout",
     "output_type": "stream",
     "text": [
      "(24.8,)\n",
      "(28.4,)\n",
      "(27.9,)\n",
      "(27.6,)\n",
      "(4.2,)\n",
      "(8.3,)\n",
      "(15.7,)\n",
      "(10.4,)\n",
      "(13.6,)\n",
      "(20.7,)\n",
      "(27.7,)\n",
      "(22.2,)\n",
      "('Mumbai',)\n",
      "('London',)\n",
      "('Cairo',)\n",
      "('Mumbai', 'India', 'Fall', 27.6, 346.0)\n",
      "('London', 'United Kingdom', 'Fall', 10.4, 218.5)\n",
      "('Cairo', 'Egypt', 'Fall', 22.2, 4.5)\n",
      "('Mumbai', 'India', 'Winter', 24.8, 5.9)\n",
      "('Mumbai', 'India', 'Spring', 28.4, 16.2)\n",
      "('Mumbai', 'India', 'Summer', 27.9, 1549.4)\n",
      "('Mumbai', 'India', 'Fall', 27.6, 346.0)\n",
      "('Mumbai', 'India')\n",
      "('Cairo', 'Egypt')\n",
      "('Mumbai', 'India', 'Fall')\n",
      "('London', 'United Kingdom', 'Winter')\n",
      "('London', 'United Kingdom', 'Fall')\n",
      "[(27.6,)]\n",
      "(569.0, 'Fall')\n",
      "(192.29999999999998, 'Spring')\n",
      "(1706.5, 'Summer')\n",
      "(230.1, 'Winter')\n"
     ]
    }
   ],
   "source": [
    "cur.execute(\"SELECT Temperature FROM Atmosphere\")\n",
    "for record in cur:\n",
    "    print(record)\n",
    "\n",
    "cur.execute(\"SELECT DISTINCT City FROM Atmosphere\")\n",
    "for record in cur:\n",
    "    print(record)\n",
    "\n",
    "cur.execute(\"SELECT * FROM Atmosphere where Season = 'Fall'\")\n",
    "for record in cur:\n",
    "    print(record)\n",
    "\n",
    "cur.execute(\"SELECT * FROM Atmosphere where Country = 'India'\")\n",
    "for record in cur:\n",
    "    print(record)\n",
    "\n",
    "cur.execute(\"SELECT City, Country FROM Atmosphere where Season = 'Fall' AND Temperature > 20 ORDER BY Temperature DESC\")\n",
    "for record in cur:\n",
    "    print(record)\n",
    "\n",
    "cur.execute(\"SELECT City, Country, Season FROM Atmosphere where Rainfall >200 AND Rainfall<400\")\n",
    "for record in cur:\n",
    "    print(record)\n",
    "\n",
    "cur.execute(\"SELECT SUM(Rainfall) FROM Atmosphere where City = 'Cairo'\")\n",
    "annual_rainfall = cur.fetchall()\n",
    "print(annual_rainfall)\n",
    "\n",
    "cur.execute(\"SELECT SUM(Rainfall), Season FROM Atmosphere GROUP BY Season\")\n",
    "for record in cur:\n",
    "    print(record)"
   ]
  },
  {
   "cell_type": "code",
   "execution_count": 15,
   "id": "231f58fc",
   "metadata": {},
   "outputs": [
    {
     "data": {
      "text/plain": [
       "['THE', 'QUICK', 'BROWN', 'FOX', 'JUMPS', 'OVER', 'THE', 'LAZY', 'DOG']"
      ]
     },
     "execution_count": 15,
     "metadata": {},
     "output_type": "execute_result"
    }
   ],
   "source": [
    "#Question 9\n",
    "\n",
    "words = ['The', 'quick', 'brown', 'fox', 'jumps', 'over', 'the', 'lazy', 'dog']\n",
    "[a.upper() for a in words]"
   ]
  },
  {
   "cell_type": "code",
   "execution_count": 16,
   "id": "f465c031",
   "metadata": {},
   "outputs": [
    {
     "data": {
      "text/plain": [
       "['the', 'quick', 'brown', 'fox', 'jumps', 'over', 'the', 'lazy', 'dog']"
      ]
     },
     "execution_count": 16,
     "metadata": {},
     "output_type": "execute_result"
    }
   ],
   "source": [
    "[a.lower() for a in words]"
   ]
  },
  {
   "cell_type": "code",
   "execution_count": 17,
   "id": "cb7ba8af",
   "metadata": {},
   "outputs": [
    {
     "data": {
      "text/plain": [
       "[3, 5, 5, 3, 5, 4, 3, 4, 3]"
      ]
     },
     "execution_count": 17,
     "metadata": {},
     "output_type": "execute_result"
    }
   ],
   "source": [
    "[len(a) for a in words]\n"
   ]
  },
  {
   "cell_type": "code",
   "execution_count": 18,
   "id": "9a3f41c5",
   "metadata": {},
   "outputs": [
    {
     "data": {
      "text/plain": [
       "[['THE', 'the', 3],\n",
       " ['QUICK', 'quick', 5],\n",
       " ['BROWN', 'brown', 5],\n",
       " ['FOX', 'fox', 3],\n",
       " ['JUMPS', 'jumps', 5],\n",
       " ['OVER', 'over', 4],\n",
       " ['THE', 'the', 3],\n",
       " ['LAZY', 'lazy', 4],\n",
       " ['DOG', 'dog', 3]]"
      ]
     },
     "execution_count": 18,
     "metadata": {},
     "output_type": "execute_result"
    }
   ],
   "source": [
    "[[a.upper(),a.lower(),len(a)] for a in words]"
   ]
  },
  {
   "cell_type": "code",
   "execution_count": 19,
   "id": "bd17628c",
   "metadata": {},
   "outputs": [
    {
     "data": {
      "text/plain": [
       "['quick', 'brown', 'jumps', 'over', 'lazy']"
      ]
     },
     "execution_count": 19,
     "metadata": {},
     "output_type": "execute_result"
    }
   ],
   "source": [
    "[a for a in words if len(a) >= 4]"
   ]
  },
  {
   "cell_type": "code",
   "execution_count": null,
   "id": "b426b4ce",
   "metadata": {},
   "outputs": [],
   "source": []
  }
 ],
 "metadata": {
  "kernelspec": {
   "display_name": "Python 3 (ipykernel)",
   "language": "python",
   "name": "python3"
  },
  "language_info": {
   "codemirror_mode": {
    "name": "ipython",
    "version": 3
   },
   "file_extension": ".py",
   "mimetype": "text/x-python",
   "name": "python",
   "nbconvert_exporter": "python",
   "pygments_lexer": "ipython3",
   "version": "3.9.13"
  }
 },
 "nbformat": 4,
 "nbformat_minor": 5
}
